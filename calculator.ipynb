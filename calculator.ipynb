{
 "cells": [
  {
   "cell_type": "markdown",
   "metadata": {},
   "source": [
    "# ASS CALCULATOR\n"
   ]
  },
  {
   "cell_type": "markdown",
   "metadata": {},
   "source": [
    "Function for the ASS CALCULATOR BELOW!"
   ]
  },
  {
   "cell_type": "code",
   "execution_count": 29,
   "metadata": {},
   "outputs": [
    {
     "ename": "IndentationError",
     "evalue": "unindent does not match any outer indentation level (<string>, line 44)",
     "output_type": "error",
     "traceback": [
      "  \u001b[36mFile \u001b[39m\u001b[32m<string>:44\u001b[39m\n\u001b[31m    \u001b[39m\u001b[31melif oper == \"-\":\u001b[39m\n                     ^\n\u001b[31mIndentationError\u001b[39m\u001b[31m:\u001b[39m unindent does not match any outer indentation level\n"
     ]
    }
   ],
   "source": [
    "'''INPUT : floating number\n",
    "    OUTPUT: floating number\n",
    "\n",
    "'''\n",
    "\n",
    "\n",
    "# add two numbers. \n",
    "def add(x:float, y: float) -> float:\n",
    "  \n",
    "  \n",
    "  \n",
    "#subtract two numbers\n",
    "def sub(x:float, y: float) -> float:\n",
    "   \n",
    "   \n",
    "   \n",
    "#multiply two numbers\n",
    "def mul(x,y):\n",
    " \n",
    " \n",
    " \n",
    "#divide two numbers. Account for dividing with zeros also\n",
    "\n",
    "def div(x,y):\n",
    "   \n",
    "   \n",
    "   \n",
    "\n",
    "#main method for calculations\n",
    "\n",
    "def main():\n",
    "   \n",
    "    \n",
    "    \n",
    "    #Various operations in a list\n",
    "    operation  = \n",
    "    \n",
    "  \n",
    "    '''accept the values for the calculations. 3 values to be exact needed here\n",
    "        FIRST NUMBER, OPERATION, SECOND NUMBER\n",
    "        \n",
    "    '''\n",
    "    \n",
    "       \n",
    "    \n",
    "    # search for the input_operation in the list of operations \n",
    "    \n",
    "    \n",
    "    \n",
    "    \n",
    "        #use if and else statement to print out the appropriate operations and print out the correct values \n",
    "        \n",
    "    \n",
    "            \n",
    "            \n",
    "            \n",
    "    \n",
    "    \n",
    "#main loop\n",
    "    \n",
    "if __name__ ==  \"__main__\":\n",
    "    main()\n",
    "    "
   ]
  },
  {
   "cell_type": "code",
   "execution_count": null,
   "metadata": {},
   "outputs": [],
   "source": []
  }
 ],
 "metadata": {
  "kernelspec": {
   "display_name": "Python 3",
   "language": "python",
   "name": "python3"
  },
  "language_info": {
   "codemirror_mode": {
    "name": "ipython",
    "version": 3
   },
   "file_extension": ".py",
   "mimetype": "text/x-python",
   "name": "python",
   "nbconvert_exporter": "python",
   "pygments_lexer": "ipython3",
   "version": "3.13.0"
  }
 },
 "nbformat": 4,
 "nbformat_minor": 2
}
